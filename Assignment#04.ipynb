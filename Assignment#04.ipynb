{
 "cells": [
  {
   "cell_type": "markdown",
   "id": "42cebde1-285f-48db-9fdb-c735b894654c",
   "metadata": {},
   "source": [
    "# 4-1"
   ]
  },
  {
   "cell_type": "code",
   "execution_count": 26,
   "id": "aef2642b-4366-4d00-922b-d8c46ff882cc",
   "metadata": {},
   "outputs": [
    {
     "name": "stdout",
     "output_type": "stream",
     "text": [
      "Hello Waleed you are invited to dinner which held on tonight.\n",
      "Hello Zain you are invited to dinner which held on tonight.\n",
      "Hello Zaryab you are invited to dinner which held on tonight.\n",
      "\n",
      "Ohh, Zain is not coming.\n"
     ]
    }
   ],
   "source": [
    "invitees = ['Waleed', 'Zaryab', 'Zain']\n",
    "\n",
    "if invitees == 'Waleed' or 'Zaryab' or 'Zain':\n",
    "    print(f\"Hello {invitees[0]} you are invited to dinner which held on tonight.\")\n",
    "if invitees == 'Waleed' or 'Zaryab' or 'Zain':\n",
    "    print(f\"Hello {invitees[2]} you are invited to dinner which held on tonight.\")\n",
    "if invitees == 'Waleed' or 'Zaryab' or 'Zain':\n",
    "    print(f\"Hello {invitees[1]} you are invited to dinner which held on tonight.\")\n",
    "\n",
    "print(\"\\nOhh, Zain is not coming.\")"
   ]
  },
  {
   "cell_type": "markdown",
   "id": "31528bde-eed2-4862-b374-18d7aba732df",
   "metadata": {},
   "source": [
    "# 4-2"
   ]
  },
  {
   "cell_type": "code",
   "execution_count": 31,
   "id": "faf09812-13b9-45a1-9580-ed979b55cc75",
   "metadata": {},
   "outputs": [
    {
     "name": "stdout",
     "output_type": "stream",
     "text": [
      "Hello Laiba you are invited to dinner which held on tonight.\n",
      "Hello Waleed you are invited to dinner which held on tonight.\n",
      "Hello Zaryab you are invited to dinner which held on tonight.\n",
      "\n",
      "And I am very happy because now we have a big dinner table, it means we invite the more friends\n"
     ]
    }
   ],
   "source": [
    "invitees = ['Laiba','Waleed', 'Zaryab']\n",
    "if invitees == 'Waleed' or 'Zaryab' or 'Laiba':\n",
    "    print(f\"Hello {invitees[0]} you are invited to dinner which held on tonight.\")\n",
    "if invitees == 'Waleed' or 'Zaryab' or 'Laiba':\n",
    "    print(f\"Hello {invitees[1]} you are invited to dinner which held on tonight.\")\n",
    "if invitees == 'Waleed' or 'Zaryab' or 'Laiba':\n",
    "    print(f\"Hello {invitees[2]} you are invited to dinner which held on tonight.\")\n",
    "\n",
    "print(\"\\nAnd I am very happy because now we have a big dinner table, it means we invite the more friends\")"
   ]
  },
  {
   "cell_type": "markdown",
   "id": "132cc155-70b1-42d7-8068-b3e1dd74ddcb",
   "metadata": {},
   "source": [
    "# 4-3"
   ]
  },
  {
   "cell_type": "code",
   "execution_count": 47,
   "id": "00f07fb3-9404-4137-a6f0-5affc8eb373c",
   "metadata": {},
   "outputs": [
    {
     "name": "stdout",
     "output_type": "stream",
     "text": [
      "Hello Zamar you are invited to dinner which held on tonight.\n",
      "Hello Laiba you are invited to dinner which held on tonight.\n",
      "Hello Faris you are invited to dinner which held on tonight.\n",
      "Hello Waleed you are invited to dinner which held on tonight.\n",
      "Hello Zaryab you are invited to dinner which held on tonight.\n",
      "Hello Hashim you are invited to dinner which held on tonight.\n",
      "\n",
      "Ohh God, now we have 2 people's capacity. Because big dinner table is not available.\n"
     ]
    }
   ],
   "source": [
    "# invitees.insert(0, 'Zamar')\n",
    "# invitees.insert(3, 'Faris')\n",
    "# invitees.append('Hashim')\n",
    "\n",
    "if invitees[0] in ['Zamar', 'Laiba', 'Faris', 'Waleed', 'Zaryab', 'Hashim']:\n",
    "    print(f\"Hello {invitees[0]} you are invited to dinner which held on tonight.\")\n",
    "if invitees[1] in ['Zamar', 'Laiba', 'Faris', 'Waleed', 'Zaryab', 'Hashim']:\n",
    "    print(f\"Hello {invitees[1]} you are invited to dinner which held on tonight.\")\n",
    "if invitees[2] in ['Zamar', 'Laiba', 'Faris', 'Waleed', 'Zaryab', 'Hashim']:\n",
    "    print(f\"Hello {invitees[2]} you are invited to dinner which held on tonight.\")\n",
    "if invitees[3] in ['Zamar', 'Laiba', 'Faris', 'Waleed', 'Zaryab', 'Hashim']:\n",
    "    print(f\"Hello {invitees[3]} you are invited to dinner which held on tonight.\")\n",
    "if invitees[4] in ['Zamar', 'Laiba', 'Faris', 'Waleed', 'Zaryab', 'Hashim']:\n",
    "    print(f\"Hello {invitees[4]} you are invited to dinner which held on tonight.\")\n",
    "if invitees[5] in ['Zamar', 'Laiba', 'Faris', 'Waleed', 'Zaryab', 'Hashim']:\n",
    "    print(f\"Hello {invitees[5]} you are invited to dinner which held on tonight.\")\n",
    "\n",
    "print(\"\\nOhh God, now we have 2 people's capacity. Because big dinner table is not available.\")"
   ]
  },
  {
   "cell_type": "markdown",
   "id": "d85edc29-803c-41b1-8b47-f64f3f936b96",
   "metadata": {},
   "source": [
    "# 4-4"
   ]
  },
  {
   "cell_type": "code",
   "execution_count": 71,
   "id": "dca430ca-eba6-4f7a-a0bd-867f86f45eff",
   "metadata": {},
   "outputs": [
    {
     "name": "stdout",
     "output_type": "stream",
     "text": [
      "Sorry Hashim, we can't invite you due to some reasons.\n",
      "Hashim\n",
      "Sorry Zaryab, we can't invite you due to some reasons.\n",
      "Zaryab\n",
      "Sorry Waleed, we can't invite you due to some reasons.\n",
      "Waleed\n",
      "Sorry Faris, we can't invite you due to some reasons.\n",
      "Faris\n"
     ]
    }
   ],
   "source": [
    "if invitees[-1] in ['Zamar', 'Laiba', 'Faris', 'Waleed', 'Zaryab', 'Hashim']:\n",
    "    print(f\"Sorry {invitees[-1]}, we can't invite you due to some reasons.\")\n",
    "print(invitees.pop())\n",
    "if invitees[-2] in ['Zamar', 'Laiba', 'Faris', 'Waleed', 'Zaryab', 'Hashim']:\n",
    "    print(f\"Sorry {invitees[-1]}, we can't invite you due to some reasons.\")\n",
    "print(invitees.pop())\n",
    "if invitees[-3] in ['Zamar', 'Laiba', 'Faris', 'Waleed', 'Zaryab', 'Hashim']:\n",
    "    print(f\"Sorry {invitees[-1]}, we can't invite you due to some reasons.\")\n",
    "print(invitees.pop())\n",
    "if invitees[-1] in ['Zamar', 'Laiba', 'Faris', 'Waleed', 'Zaryab', 'Hashim']:\n",
    "    print(f\"Sorry {invitees[-1]}, we can't invite you due to some reasons.\")\n",
    "print(invitees.pop())"
   ]
  },
  {
   "cell_type": "code",
   "execution_count": 72,
   "id": "706a5311-818c-48f2-98c4-467ffcc4d2c9",
   "metadata": {},
   "outputs": [
    {
     "name": "stdout",
     "output_type": "stream",
     "text": [
      "Hello Zamar you are still invited to dinner which held on tonight.\n",
      "Hello Laiba you are still invited to dinner which held on tonight.\n"
     ]
    }
   ],
   "source": [
    "if invitees[0] in ['Zamar', 'Laiba']:\n",
    "    print(f\"Hello {invitees[0]} you are still invited to dinner which held on tonight.\")\n",
    "if invitees[1] in ['Zamar', 'Laiba']:\n",
    "    print(f\"Hello {invitees[1]} you are still invited to dinner which held on tonight.\")"
   ]
  },
  {
   "cell_type": "code",
   "execution_count": 76,
   "id": "dc1e78ab-4c46-4cba-af3c-45dbb62c8c09",
   "metadata": {},
   "outputs": [
    {
     "data": {
      "text/plain": [
       "[]"
      ]
     },
     "execution_count": 76,
     "metadata": {},
     "output_type": "execute_result"
    }
   ],
   "source": [
    "del invitees[-2:]\n",
    "invitees"
   ]
  },
  {
   "cell_type": "markdown",
   "id": "5242e4c3-169a-4ee6-8be4-98c7416ba70c",
   "metadata": {},
   "source": [
    "# 4-5"
   ]
  },
  {
   "cell_type": "markdown",
   "id": "54bc04ac-1c78-4182-a6ea-47548d7d051a",
   "metadata": {},
   "source": [
    "## Indexing"
   ]
  },
  {
   "cell_type": "code",
   "execution_count": 82,
   "id": "3715bbc9-865d-4223-bcc0-e3afd0abe699",
   "metadata": {},
   "outputs": [
    {
     "name": "stdout",
     "output_type": "stream",
     "text": [
      "apple\n",
      "grape\n",
      "cherry\n"
     ]
    }
   ],
   "source": [
    "fruits = ['apple', 'banana', 'cherry', 'date', 'elderberry', 'fig', 'grape']\n",
    "\n",
    "first_fruit = fruits[0]\n",
    "print(first_fruit)  \n",
    "\n",
    "last_fruit = fruits[-1]\n",
    "print(last_fruit)  \n",
    "\n",
    "third_fruit = fruits[2]\n",
    "print(third_fruit)"
   ]
  },
  {
   "cell_type": "markdown",
   "id": "3a7bac3c-496d-4f2a-96c1-712f9153f941",
   "metadata": {},
   "source": [
    "## Slicing"
   ]
  },
  {
   "cell_type": "code",
   "execution_count": 81,
   "id": "051d0409-5c44-49e3-bc60-e68962bb83f8",
   "metadata": {},
   "outputs": [
    {
     "name": "stdout",
     "output_type": "stream",
     "text": [
      "['apple', 'banana', 'cherry']\n",
      "['cherry', 'date', 'elderberry']\n",
      "['date', 'elderberry', 'fig', 'grape']\n",
      "['apple', 'cherry', 'elderberry', 'grape']\n",
      "['grape', 'fig', 'elderberry', 'date', 'cherry', 'banana', 'apple']\n"
     ]
    }
   ],
   "source": [
    "first_three_fruits = fruits[:3]\n",
    "print(first_three_fruits) \n",
    "\n",
    "middle_fruits = fruits[2:5]\n",
    "print(middle_fruits)  \n",
    "\n",
    "last_fruits = fruits[3:]\n",
    "print(last_fruits)  \n",
    "\n",
    "every_other_fruit = fruits[::2]\n",
    "print(every_other_fruit) \n",
    "\n",
    "reversed_fruits = fruits[::-1]\n",
    "print(reversed_fruits)  "
   ]
  },
  {
   "cell_type": "code",
   "execution_count": null,
   "id": "ea981bcd-3757-4515-9db3-882864d4dab6",
   "metadata": {},
   "outputs": [],
   "source": []
  }
 ],
 "metadata": {
  "kernelspec": {
   "display_name": "Python 3 (ipykernel)",
   "language": "python",
   "name": "python3"
  },
  "language_info": {
   "codemirror_mode": {
    "name": "ipython",
    "version": 3
   },
   "file_extension": ".py",
   "mimetype": "text/x-python",
   "name": "python",
   "nbconvert_exporter": "python",
   "pygments_lexer": "ipython3",
   "version": "3.11.7"
  }
 },
 "nbformat": 4,
 "nbformat_minor": 5
}
